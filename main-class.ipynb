{
 "cells": [
  {
   "cell_type": "markdown",
   "id": "404ab301",
   "metadata": {},
   "source": [
    "## Extracting the Dataset for CSV"
   ]
  },
  {
   "cell_type": "code",
   "execution_count": 4,
   "id": "b6a03a0b",
   "metadata": {},
   "outputs": [
    {
     "name": "stdout",
     "output_type": "stream",
     "text": [
      "Extracting: dataset\\PAMANA_Dataset.zip\n",
      "Extracting input\\PAMANA_Dataset\\Luzon\\Ab-bew_audios.zip -> input\\PAMANA_Dataset\\Luzon\\Ab-bew_audios\n",
      "Extracting input\\PAMANA_Dataset\\Luzon\\Abistung_audios.zip -> input\\PAMANA_Dataset\\Luzon\\Abistung_audios\n",
      "Extracting input\\PAMANA_Dataset\\Luzon\\Bangsi_audios.zip -> input\\PAMANA_Dataset\\Luzon\\Bangsi_audios\n",
      "Extracting input\\PAMANA_Dataset\\Luzon\\Gangsa (Besao Fieldwork)_audios.zip -> input\\PAMANA_Dataset\\Luzon\\Gangsa (Besao Fieldwork)_audios\n",
      "Extracting input\\PAMANA_Dataset\\Luzon\\Kalaleng (Besao Fieldwork)_audios.zip -> input\\PAMANA_Dataset\\Luzon\\Kalaleng (Besao Fieldwork)_audios\n",
      "Extracting input\\PAMANA_Dataset\\Luzon\\Kalaleng (Bontoc Fieldwork)_audios.zip -> input\\PAMANA_Dataset\\Luzon\\Kalaleng (Bontoc Fieldwork)_audios\n",
      "Extracting input\\PAMANA_Dataset\\Luzon\\Labil_audios.zip -> input\\PAMANA_Dataset\\Luzon\\Labil_audios\n",
      "Extracting input\\PAMANA_Dataset\\Luzon\\Patang-ug_audios.zip -> input\\PAMANA_Dataset\\Luzon\\Patang-ug_audios\n",
      "Extracting input\\PAMANA_Dataset\\Luzon\\Tambuli_audios.zip -> input\\PAMANA_Dataset\\Luzon\\Tambuli_audios\n",
      "Extracting input\\PAMANA_Dataset\\Luzon\\Tongale_audios.zip -> input\\PAMANA_Dataset\\Luzon\\Tongale_audios\n",
      "Extracting input\\PAMANA_Dataset\\Mindanao\\Agung (Mansaka)_audios.zip -> input\\PAMANA_Dataset\\Mindanao\\Agung (Mansaka)_audios\n",
      "Extracting input\\PAMANA_Dataset\\Mindanao\\Agung (Subanen)_audios.zip -> input\\PAMANA_Dataset\\Mindanao\\Agung (Subanen)_audios\n",
      "Extracting input\\PAMANA_Dataset\\Mindanao\\Faglung_audios.zip -> input\\PAMANA_Dataset\\Mindanao\\Faglung_audios\n",
      "Extracting input\\PAMANA_Dataset\\Mindanao\\Gabbang_audios.zip -> input\\PAMANA_Dataset\\Mindanao\\Gabbang_audios\n",
      "Extracting input\\PAMANA_Dataset\\Mindanao\\Gimbao_audios.zip -> input\\PAMANA_Dataset\\Mindanao\\Gimbao_audios\n",
      "Extracting input\\PAMANA_Dataset\\Mindanao\\Kubing_audios.zip -> input\\PAMANA_Dataset\\Mindanao\\Kubing_audios\n",
      "Extracting input\\PAMANA_Dataset\\Mindanao\\Kuging_audios.zip -> input\\PAMANA_Dataset\\Mindanao\\Kuging_audios\n",
      "Extracting input\\PAMANA_Dataset\\Mindanao\\Tacombo_audios.zip -> input\\PAMANA_Dataset\\Mindanao\\Tacombo_audios\n",
      "Extracting input\\PAMANA_Dataset\\Mindanao\\Tambor_audios.zip -> input\\PAMANA_Dataset\\Mindanao\\Tambor_audios\n",
      "Extracting input\\PAMANA_Dataset\\Mindanao\\Tanangong_audios.zip -> input\\PAMANA_Dataset\\Mindanao\\Tanangong_audios\n",
      "Extracting input\\PAMANA_Dataset\\Mindanao\\Tumpong_audios.zip -> input\\PAMANA_Dataset\\Mindanao\\Tumpong_audios\n",
      "Extracting input\\PAMANA_Dataset\\Visayas\\Agung (Panay Bukidnon)_audios.zip -> input\\PAMANA_Dataset\\Visayas\\Agung (Panay Bukidnon)_audios\n",
      "Extracting input\\PAMANA_Dataset\\Visayas\\Banjo_audios.zip -> input\\PAMANA_Dataset\\Visayas\\Banjo_audios\n",
      "Extracting input\\PAMANA_Dataset\\Visayas\\Bombo_audios.zip -> input\\PAMANA_Dataset\\Visayas\\Bombo_audios\n",
      "Extracting input\\PAMANA_Dataset\\Visayas\\Matraca_audios.zip -> input\\PAMANA_Dataset\\Visayas\\Matraca_audios\n",
      "Extracting input\\PAMANA_Dataset\\Visayas\\Paratikan_audios.zip -> input\\PAMANA_Dataset\\Visayas\\Paratikan_audios\n",
      "Extracting input\\PAMANA_Dataset\\Visayas\\Patik-patik_audios.zip -> input\\PAMANA_Dataset\\Visayas\\Patik-patik_audios\n",
      "Extracting input\\PAMANA_Dataset\\Visayas\\Subing (Panay Bukidnon)_audios.zip -> input\\PAMANA_Dataset\\Visayas\\Subing (Panay Bukidnon)_audios\n",
      "Extracting input\\PAMANA_Dataset\\Visayas\\Subing_audios.zip -> input\\PAMANA_Dataset\\Visayas\\Subing_audios\n",
      "Extracting input\\PAMANA_Dataset\\Visayas\\Suganggang_audios.zip -> input\\PAMANA_Dataset\\Visayas\\Suganggang_audios\n",
      "Extracting input\\PAMANA_Dataset\\Visayas\\Tambol_audios.zip -> input\\PAMANA_Dataset\\Visayas\\Tambol_audios\n",
      "Extracting input\\PAMANA_Dataset\\Visayas\\Tikumbo_audios.zip -> input\\PAMANA_Dataset\\Visayas\\Tikumbo_audios\n",
      "\n",
      "✅ All nested zips extracted and originals deleted!\n"
     ]
    }
   ],
   "source": [
    "import zipfile\n",
    "from pathlib import Path\n",
    "\n",
    "# --- SETTINGS ---\n",
    "dataset_zip = Path(\"dataset/PAMANA_Dataset.zip\")  # top-level zip file\n",
    "extract_root = Path(\"input\")                      # where to unpack\n",
    "extract_root.mkdir(exist_ok=True)\n",
    "\n",
    "# --- STEP 1: Extract the top-level zip ---\n",
    "print(f\"Extracting: {dataset_zip}\")\n",
    "with zipfile.ZipFile(dataset_zip, \"r\") as z:\n",
    "    z.extractall(extract_root)\n",
    "\n",
    "# --- STEP 2: Recursively extract nested zips and delete them afterward ---\n",
    "for inner_zip in extract_root.rglob(\"*.zip\"):\n",
    "    target_dir = inner_zip.parent / inner_zip.stem\n",
    "    target_dir.mkdir(exist_ok=True)\n",
    "    print(f\"Extracting {inner_zip} -> {target_dir}\")\n",
    "\n",
    "    try:\n",
    "        with zipfile.ZipFile(inner_zip, \"r\") as z:\n",
    "            z.extractall(target_dir)\n",
    "        inner_zip.unlink()  # delete the zip file after successful extraction\n",
    "    except zipfile.BadZipFile as e:\n",
    "        print(f\"⚠️ Skipped bad zip {inner_zip}: {e}\")\n",
    "\n",
    "print(\"\\n✅ All nested zips extracted and originals deleted!\")"
   ]
  },
  {
   "cell_type": "markdown",
   "id": "5342fbf5",
   "metadata": {},
   "source": [
    "## Reading the Dataset for CSV"
   ]
  },
  {
   "cell_type": "code",
   "execution_count": 3,
   "id": "bf15862e",
   "metadata": {},
   "outputs": [
    {
     "name": "stdout",
     "output_type": "stream",
     "text": [
      "Found 670 audio files in C:\\Users\\creep\\Documents\\Programs\\Third_Year\\Project_PAMANA_dataset\\input.\n"
     ]
    },
    {
     "name": "stderr",
     "output_type": "stream",
     "text": [
      "Extracting metadata: 100%|██████████| 670/670 [00:09<00:00, 73.48it/s] "
     ]
    },
    {
     "name": "stdout",
     "output_type": "stream",
     "text": [
      "\n",
      "✅ Metadata extraction complete.\n",
      "Saved 670 rows to 'pamana_dataset.csv'.\n",
      "\n",
      "Instrument distribution:\n",
      "instrument_label\n",
      "Gabbang                        70\n",
      "Faglung                        54\n",
      "Labil                          39\n",
      "Agung (Panay Bukidnon)         34\n",
      "Tumpong                        31\n",
      "Subing                         30\n",
      "Bombo                          28\n",
      "Tambor                         26\n",
      "Kubing                         24\n",
      "Tambol                         24\n",
      "Agung (Subanen)                24\n",
      "Kalaleng (Besao Fieldwork)     24\n",
      "Tacombo                        24\n",
      "Tanangong                      21\n",
      "Ab-bew                         20\n",
      "Kalaleng (Bontoc Fieldwork)    19\n",
      "Tikumbo                        18\n",
      "Abistung                       17\n",
      "Agung (Mansaka)                17\n",
      "Gimbao                         16\n",
      "Paratikan                      16\n",
      "Kuging                         16\n",
      "Suganggang                     11\n",
      "Patik-patik                    11\n",
      "Subing (Panay Bukidnon)        10\n",
      "Banjo                          10\n",
      "Tongale                        10\n",
      "Bangsi                          9\n",
      "Patang-ug                       7\n",
      "Matraca                         6\n",
      "Tambuli                         2\n",
      "Gangsa (Besao Fieldwork)        2\n",
      "Name: count, dtype: int64\n"
     ]
    },
    {
     "name": "stderr",
     "output_type": "stream",
     "text": [
      "\n"
     ]
    }
   ],
   "source": [
    "import librosa\n",
    "import numpy as np\n",
    "import pandas as pd\n",
    "from pathlib import Path\n",
    "from tqdm import tqdm\n",
    "\n",
    "# --- SETTINGS ---\n",
    "DATA_DIR = Path(\"input\")                 # root folder containing instrument folders\n",
    "OUTPUT_CSV = \"pamana_dataset.csv\"\n",
    "AUDIO_EXTS = {\".wav\", \".mp3\", \".flac\", \".ogg\", \".m4a\", \".aac\", \".wma\"}\n",
    "\n",
    "# --- Feature extraction helper ---\n",
    "def extract_audio_metadata(file_path: Path) -> dict | None:\n",
    "    \"\"\"\n",
    "    Load one audio file and return basic metadata:\n",
    "    sample rate, duration, file type, and inferred instrument label.\n",
    "    \"\"\"\n",
    "    try:\n",
    "        # Load audio (mono)\n",
    "        y, sr = librosa.load(file_path, sr=None, mono=True)\n",
    "        duration = librosa.get_duration(y=y, sr=sr)\n",
    "\n",
    "        # Infer instrument label from parent folder (e.g., 'Agung_audios' -> 'Agung')\n",
    "        parent_folder = file_path.parent.name\n",
    "        instrument_label = parent_folder.replace(\"_audios\", \"\")\n",
    "\n",
    "        return {\n",
    "            \"filepath\": str(file_path),\n",
    "            \"filetype\": file_path.suffix.lower(),\n",
    "            \"sample_rate\": sr,\n",
    "            \"duration_sec\": duration,\n",
    "            \"instrument_label\": instrument_label,\n",
    "        }\n",
    "\n",
    "    except Exception as e:\n",
    "        print(f\"⚠️ Skipped {file_path}: {e}\")\n",
    "        return None\n",
    "\n",
    "\n",
    "# --- Collect all supported audio files ---\n",
    "audio_files = [f for f in DATA_DIR.rglob(\"*\") if f.suffix.lower() in AUDIO_EXTS]\n",
    "print(f\"Found {len(audio_files)} audio files in {DATA_DIR.resolve()}.\")\n",
    "\n",
    "# --- Extract metadata with progress bar ---\n",
    "records: list[dict] = []\n",
    "for f in tqdm(audio_files, desc=\"Extracting metadata\"):\n",
    "    info = extract_audio_metadata(f)\n",
    "    if info:\n",
    "        records.append(info)\n",
    "\n",
    "# --- Save to CSV ---\n",
    "df = pd.DataFrame(records)\n",
    "if not df.empty:\n",
    "    df.to_csv(OUTPUT_CSV, index=False)\n",
    "    print(f\"\\n✅ Metadata extraction complete.\")\n",
    "    print(f\"Saved {len(df)} rows to '{OUTPUT_CSV}'.\\n\")\n",
    "    print(\"Instrument distribution:\")\n",
    "    print(df[\"instrument_label\"].value_counts())\n",
    "else:\n",
    "    print(\"\\n⚠️ No features extracted — check your input path and file formats.\")"
   ]
  },
  {
   "cell_type": "code",
   "execution_count": 27,
   "id": "d9d5393e",
   "metadata": {},
   "outputs": [
    {
     "data": {
      "text/html": [
       "<div><style>\n",
       ".dataframe > thead > tr,\n",
       ".dataframe > tbody > tr {\n",
       "  text-align: right;\n",
       "  white-space: pre-wrap;\n",
       "}\n",
       "</style>\n",
       "<small>shape: (9, 24)</small><table border=\"1\" class=\"dataframe\"><thead><tr><th>statistic</th><th>filepath</th><th>filetype</th><th>sample_rate</th><th>duration_sec</th><th>rms_energy</th><th>zcr</th><th>spectral_centroid</th><th>spectral_bandwidth</th><th>rolloff</th><th>mfcc_1</th><th>mfcc_2</th><th>mfcc_3</th><th>mfcc_4</th><th>mfcc_5</th><th>mfcc_6</th><th>mfcc_7</th><th>mfcc_8</th><th>mfcc_9</th><th>mfcc_10</th><th>mfcc_11</th><th>mfcc_12</th><th>mfcc_13</th><th>instrument_label</th></tr><tr><td>str</td><td>str</td><td>str</td><td>f64</td><td>f64</td><td>f64</td><td>f64</td><td>f64</td><td>f64</td><td>f64</td><td>f64</td><td>f64</td><td>f64</td><td>f64</td><td>f64</td><td>f64</td><td>f64</td><td>f64</td><td>f64</td><td>f64</td><td>f64</td><td>f64</td><td>f64</td><td>str</td></tr></thead><tbody><tr><td>&quot;count&quot;</td><td>&quot;670&quot;</td><td>&quot;670&quot;</td><td>670.0</td><td>670.0</td><td>670.0</td><td>670.0</td><td>670.0</td><td>670.0</td><td>670.0</td><td>670.0</td><td>670.0</td><td>670.0</td><td>670.0</td><td>670.0</td><td>670.0</td><td>670.0</td><td>670.0</td><td>670.0</td><td>670.0</td><td>670.0</td><td>670.0</td><td>670.0</td><td>&quot;670&quot;</td></tr><tr><td>&quot;null_count&quot;</td><td>&quot;0&quot;</td><td>&quot;0&quot;</td><td>0.0</td><td>0.0</td><td>0.0</td><td>0.0</td><td>0.0</td><td>0.0</td><td>0.0</td><td>0.0</td><td>0.0</td><td>0.0</td><td>0.0</td><td>0.0</td><td>0.0</td><td>0.0</td><td>0.0</td><td>0.0</td><td>0.0</td><td>0.0</td><td>0.0</td><td>0.0</td><td>&quot;0&quot;</td></tr><tr><td>&quot;mean&quot;</td><td>null</td><td>null</td><td>44100.0</td><td>7.01957</td><td>0.029071</td><td>0.084694</td><td>3109.142782</td><td>3257.536043</td><td>6085.723374</td><td>-537.292611</td><td>82.167339</td><td>-13.745677</td><td>2.268664</td><td>-13.213705</td><td>-0.951005</td><td>-11.37975</td><td>-4.265865</td><td>-6.246474</td><td>-3.030142</td><td>-7.122061</td><td>-2.233258</td><td>-5.116345</td><td>null</td></tr><tr><td>&quot;std&quot;</td><td>null</td><td>null</td><td>0.0</td><td>20.930983</td><td>0.042135</td><td>0.058325</td><td>1365.363108</td><td>891.355553</td><td>2579.858768</td><td>145.916152</td><td>36.432381</td><td>45.944229</td><td>20.018244</td><td>23.328254</td><td>14.613191</td><td>17.164946</td><td>12.671156</td><td>14.667601</td><td>11.342897</td><td>12.582856</td><td>10.91895</td><td>10.019524</td><td>null</td></tr><tr><td>&quot;min&quot;</td><td>&quot;input\\PAMANA_Dataset\\Luzon\\Ab-…</td><td>&quot;.mp3&quot;</td><td>44100.0</td><td>0.287347</td><td>0.000383</td><td>0.013562</td><td>496.721754</td><td>642.585383</td><td>537.321553</td><td>-882.38586</td><td>-6.157698</td><td>-182.32399</td><td>-65.11822</td><td>-91.664215</td><td>-45.025852</td><td>-70.18855</td><td>-38.82878</td><td>-45.652367</td><td>-30.356543</td><td>-40.709927</td><td>-32.855774</td><td>-29.165678</td><td>&quot;Ab-bew&quot;</td></tr><tr><td>&quot;25%&quot;</td><td>null</td><td>null</td><td>44100.0</td><td>0.992653</td><td>0.00518</td><td>0.04503</td><td>2127.755051</td><td>2657.391817</td><td>4012.323001</td><td>-632.4725</td><td>53.813793</td><td>-40.486237</td><td>-8.142176</td><td>-28.206844</td><td>-9.812379</td><td>-20.967497</td><td>-11.84029</td><td>-14.502827</td><td>-11.373013</td><td>-15.019673</td><td>-10.698123</td><td>-12.69113</td><td>null</td></tr><tr><td>&quot;50%&quot;</td><td>null</td><td>null</td><td>44100.0</td><td>1.306122</td><td>0.014968</td><td>0.065021</td><td>2990.918209</td><td>3346.769442</td><td>6239.332233</td><td>-522.3148</td><td>81.50444</td><td>0.025956</td><td>6.2607574</td><td>-7.080081</td><td>-0.369483</td><td>-7.574062</td><td>-4.430204</td><td>-5.546705</td><td>-2.880387</td><td>-7.294196</td><td>-1.399989</td><td>-4.240933</td><td>null</td></tr><tr><td>&quot;75%&quot;</td><td>null</td><td>null</td><td>44100.0</td><td>3.526531</td><td>0.033431</td><td>0.113155</td><td>3808.66583</td><td>3892.246141</td><td>7813.548101</td><td>-438.87396</td><td>107.85301</td><td>21.870789</td><td>16.84386</td><td>4.779669</td><td>7.764397</td><td>0.419275</td><td>4.023712</td><td>2.2458737</td><td>3.968629</td><td>1.2052195</td><td>4.7461767</td><td>1.3652027</td><td>null</td></tr><tr><td>&quot;max&quot;</td><td>&quot;input\\PAMANA_Dataset\\Visayas\\T…</td><td>&quot;.mp3&quot;</td><td>44100.0</td><td>250.514286</td><td>0.25868</td><td>0.36233</td><td>8175.161119</td><td>5359.078821</td><td>12911.403245</td><td>-91.37293</td><td>199.40674</td><td>77.72598</td><td>43.102238</td><td>32.928738</td><td>48.648666</td><td>35.951878</td><td>36.16436</td><td>39.1544</td><td>35.456444</td><td>32.105907</td><td>37.01128</td><td>33.930573</td><td>&quot;Tumpong&quot;</td></tr></tbody></table></div>"
      ],
      "text/plain": [
       "shape: (9, 24)\n",
       "┌───────────┬───────────┬──────────┬───────────┬───┬───────────┬───────────┬───────────┬───────────┐\n",
       "│ statistic ┆ filepath  ┆ filetype ┆ sample_ra ┆ … ┆ mfcc_11   ┆ mfcc_12   ┆ mfcc_13   ┆ instrumen │\n",
       "│ ---       ┆ ---       ┆ ---      ┆ te        ┆   ┆ ---       ┆ ---       ┆ ---       ┆ t_label   │\n",
       "│ str       ┆ str       ┆ str      ┆ ---       ┆   ┆ f64       ┆ f64       ┆ f64       ┆ ---       │\n",
       "│           ┆           ┆          ┆ f64       ┆   ┆           ┆           ┆           ┆ str       │\n",
       "╞═══════════╪═══════════╪══════════╪═══════════╪═══╪═══════════╪═══════════╪═══════════╪═══════════╡\n",
       "│ count     ┆ 670       ┆ 670      ┆ 670.0     ┆ … ┆ 670.0     ┆ 670.0     ┆ 670.0     ┆ 670       │\n",
       "│ null_coun ┆ 0         ┆ 0        ┆ 0.0       ┆ … ┆ 0.0       ┆ 0.0       ┆ 0.0       ┆ 0         │\n",
       "│ t         ┆           ┆          ┆           ┆   ┆           ┆           ┆           ┆           │\n",
       "│ mean      ┆ null      ┆ null     ┆ 44100.0   ┆ … ┆ -7.122061 ┆ -2.233258 ┆ -5.116345 ┆ null      │\n",
       "│ std       ┆ null      ┆ null     ┆ 0.0       ┆ … ┆ 12.582856 ┆ 10.91895  ┆ 10.019524 ┆ null      │\n",
       "│ min       ┆ input\\PAM ┆ .mp3     ┆ 44100.0   ┆ … ┆ -40.70992 ┆ -32.85577 ┆ -29.16567 ┆ Ab-bew    │\n",
       "│           ┆ ANA_Datas ┆          ┆           ┆   ┆ 7         ┆ 4         ┆ 8         ┆           │\n",
       "│           ┆ et\\Luzon\\ ┆          ┆           ┆   ┆           ┆           ┆           ┆           │\n",
       "│           ┆ Ab-…      ┆          ┆           ┆   ┆           ┆           ┆           ┆           │\n",
       "│ 25%       ┆ null      ┆ null     ┆ 44100.0   ┆ … ┆ -15.01967 ┆ -10.69812 ┆ -12.69113 ┆ null      │\n",
       "│           ┆           ┆          ┆           ┆   ┆ 3         ┆ 3         ┆           ┆           │\n",
       "│ 50%       ┆ null      ┆ null     ┆ 44100.0   ┆ … ┆ -7.294196 ┆ -1.399989 ┆ -4.240933 ┆ null      │\n",
       "│ 75%       ┆ null      ┆ null     ┆ 44100.0   ┆ … ┆ 1.2052195 ┆ 4.7461767 ┆ 1.3652027 ┆ null      │\n",
       "│ max       ┆ input\\PAM ┆ .mp3     ┆ 44100.0   ┆ … ┆ 32.105907 ┆ 37.01128  ┆ 33.930573 ┆ Tumpong   │\n",
       "│           ┆ ANA_Datas ┆          ┆           ┆   ┆           ┆           ┆           ┆           │\n",
       "│           ┆ et\\Visaya ┆          ┆           ┆   ┆           ┆           ┆           ┆           │\n",
       "│           ┆ s\\T…      ┆          ┆           ┆   ┆           ┆           ┆           ┆           │\n",
       "└───────────┴───────────┴──────────┴───────────┴───┴───────────┴───────────┴───────────┴───────────┘"
      ]
     },
     "execution_count": null,
     "metadata": {},
     "output_type": "execute_result"
    }
   ],
   "source": [
    "import polars as pl\n",
    "\n",
    "df = pl.read_csv(\"audio_features.csv\")\n",
    "\n",
    "df.describe()"
   ]
  }
 ],
 "metadata": {
  "language_info": {
   "name": "python"
  }
 },
 "nbformat": 4,
 "nbformat_minor": 5
}
